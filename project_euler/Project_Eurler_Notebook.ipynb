{
 "cells": [
  {
   "cell_type": "code",
   "execution_count": 1,
   "metadata": {},
   "outputs": [
    {
     "data": {
      "text/plain": [
       "'/Users/jessicaobrien/Documents/Documents - Jessica’s MacBook Air/adhoc_youtube/project_euler'"
      ]
     },
     "execution_count": 1,
     "metadata": {},
     "output_type": "execute_result"
    }
   ],
   "source": [
    "# import libraries\n",
    "\n",
    "#%pip install pandas\n",
    "import pandas as pd\n",
    "import math\n",
    "import os\n",
    "import time\n",
    "import functools\n",
    "os.getcwd()"
   ]
  },
  {
   "cell_type": "code",
   "execution_count": 3,
   "metadata": {},
   "outputs": [
    {
     "name": "stdout",
     "output_type": "stream",
     "text": [
      "The sum of all the multiples of 3 or 5 below 1000 is 233,168\n"
     ]
    }
   ],
   "source": [
    "# Question 1\n",
    "x = []\n",
    "\n",
    "for i in range(1,1000):\n",
    "    value_1 = i/3\n",
    "    value_2 = i/5\n",
    "    # check if value_1 is an integer (e.g., 1,2,3..) or value_1 is a float AND and integer (e.g., 1.0,2.0,3.0..)\n",
    "    if isinstance(value_1, int) or (isinstance(value_1, float) and value_1.is_integer()):\n",
    "        x.append(i)\n",
    "    #same for value_2\n",
    "    elif isinstance(value_2, int) or (isinstance(value_2, float) and value_2.is_integer()):\n",
    "        x.append(i)\n",
    "\n",
    "# drop duplicates in the list by making it a set\n",
    "set_list = set(x)\n",
    "# sum entries in list\n",
    "total = sum(set_list)\n",
    "\n",
    "# print result\n",
    "print(f\"The sum of all the multiples of 3 or 5 below 1000 is {total:,}\")\n"
   ]
  },
  {
   "cell_type": "code",
   "execution_count": 27,
   "metadata": {},
   "outputs": [
    {
     "name": "stdout",
     "output_type": "stream",
     "text": [
      "The sum of the even-valued terms in the Fibonacci sequence under 4 million is: 4,613,732\n"
     ]
    }
   ],
   "source": [
    "# Question 2 - Fibonacci sequence sum\n",
    "\n",
    "fib = [1,2]\n",
    "\n",
    "while True:\n",
    "    i = fib[-1] + fib[-2]\n",
    "    if i >4_000_000:\n",
    "        break\n",
    "    elif fib.append(i):\n",
    "        continue\n",
    "\n",
    "#print(fib)\n",
    "\n",
    "fib_even = []\n",
    "for f in fib:\n",
    "    value = f/2\n",
    "    # check if value is an integer (e.g., 1,2,3..) or value is a float AND and integer (e.g., 1.0,2.0,3.0..)\n",
    "    if isinstance(value, int) or (isinstance(value, float) and value.is_integer()):\n",
    "        fib_even.append(f)\n",
    "\n",
    "fib_sum = sum(fib_even)\n",
    "\n",
    "print(f\"The sum of the even-valued terms in the Fibonacci sequence under 4 million is: {fib_sum:,}\")\n",
    "\n"
   ]
  },
  {
   "cell_type": "code",
   "execution_count": 20,
   "metadata": {},
   "outputs": [
    {
     "name": "stdout",
     "output_type": "stream",
     "text": [
      "6,857.0\n"
     ]
    }
   ],
   "source": [
    "# Question 3 - Find the largest prime factor of 600851475143 \n",
    "\n",
    "# Hint - the prime factors of 13195 are 5, 7, 13 and 29.\n",
    "\n",
    "# number_list = []\n",
    "\n",
    "# for i in range(1,600851475144):\n",
    "#     number = 600851475143/i\n",
    "#     if isinstance(number, int) or (isinstance(number, float) and number.is_integer()):\n",
    "#         number_list.append(i)\n",
    "# #print(number_list)\n",
    "\n",
    "# number_list = set(number_list)\n",
    "# not_prime_list = []\n",
    "\n",
    "# for i in number_list:\n",
    "#     range_1  = [j for j in range(1,600851475144) if j != 1 and j != i]\n",
    "#     for j in range_1:\n",
    "#         new_number = i/j\n",
    "#         if isinstance(new_number, int) or (isinstance(new_number, float) and new_number.is_integer()):\n",
    "#             not_prime_list.append(i)\n",
    "        \n",
    "\n",
    "# unique_not_prime = set(not_prime_list)\n",
    "\n",
    "# prime_set = number_list.difference(unique_not_prime)\n",
    "# prime_list = list(prime_set)\n",
    "# #print(prime_list)\n",
    "\n",
    "# print(f\"The largest prime factor of 600851475143 is {max(prime_list)}\")\n",
    "\n",
    "# ------------ Ran for 277 mins with no result, but worked for the hint number of 13195 -------------\n",
    "\n",
    "# Found below answer online:\n",
    "\n",
    "n = 600_851_475_143\n",
    "i = 2\n",
    "while i * i < n:\n",
    "    while n % i == 0: # means if the remainder of n divided by i is zero then carry out body\n",
    "        n = n / i\n",
    "    i = i + 1\n",
    "\n",
    "print(f\"{n:,}\")"
   ]
  },
  {
   "cell_type": "code",
   "execution_count": 26,
   "metadata": {},
   "outputs": [
    {
     "name": "stdout",
     "output_type": "stream",
     "text": [
      "The largest paindrome made from two 3-digit numbers is 906,609\n",
      "Run time = 0.43073201179504395\n"
     ]
    },
    {
     "data": {
      "text/plain": [
       "906609"
      ]
     },
     "execution_count": 26,
     "metadata": {},
     "output_type": "execute_result"
    }
   ],
   "source": [
    "# Question 4\n",
    "# A palindromic number reads the same both ways. \n",
    "# The largest palindrome made from the product of two 2-digit numbers is 9009 = 91 × 99.\n",
    "\n",
    "# Find the largest palindrome made from the product of two 3-digit numbers.\n",
    "start_time = time.time()\n",
    "palindrome = []\n",
    "for i in range(100,1000):\n",
    "        for j in range(100,1000):\n",
    "                number = i * j\n",
    "                number = str(number)\n",
    "                if len(number) <= 2 and number[0] == number[-1]:\n",
    "                        palindrome.append(number)\n",
    "                elif len(number) >2 and len(number) <= 4 and number[0] == number[-1] and number[1] == number[-2]:\n",
    "                        palindrome.append(number)\n",
    "                elif len(number) >4 and len(number) <= 6 and number[0] == number[-1] and number[1] == number[-2] and number[2] == number[-3]:\n",
    "                        palindrome.append(number)\n",
    "\n",
    "palindrome_int = [int(x) for x in palindrome]\n",
    "#print(palindrome_int)\n",
    "print(f\"The largest paindrome made from two 3-digit numbers is {max(palindrome_int):,}\")\n",
    "print(f\"Run time = {str((time.time() - start_time))}\")\n",
    "\n",
    "# Note: learned that [::-1] returns the reverse of a string \n",
    "# \n",
    "#  One line solution:\n",
    "\n",
    "max([x*y for x in range(100,1000) for y in range(100,1000) if str(x*y) == str(x*y)[::-1]])   "
   ]
  },
  {
   "cell_type": "code",
   "execution_count": 25,
   "metadata": {},
   "outputs": [
    {
     "name": "stdout",
     "output_type": "stream",
     "text": [
      "10\n",
      "Run time = 0.00011324882507324219\n"
     ]
    }
   ],
   "source": [
    "# Question 5\n",
    "\n",
    "# 2520 is the smallest number that can be divided by each of the numbers from 1 to 10 without any remainder.\n",
    "\n",
    "# What is the smallest positive number that is evenly divisible by all of the numbers from 1 to 20?\n",
    "\n",
    "start_time = time.time()\n",
    "\n",
    "# div = []\n",
    "# n = 1\n",
    "prod_num = 1\n",
    "max_pos = 10\n",
    "# while n>1 and n<=max_pos:\n",
    "for n in range(1,11):\n",
    "        if prod_num % n ==0:\n",
    "            prod_num = prod_num\n",
    "\n",
    "        else: prod_num = prod_num + 1\n",
    "print(prod_num)\n",
    "    \n",
    "\n",
    "\n",
    "\n",
    "    # while len(div) == 0:\n",
    "    #     n = n + 1\n",
    "    #     if n % i == 0:\n",
    "    #         i = i + 1\n",
    "    # div.append(n)\n",
    "# print(div)\n",
    "print(f\"Run time = {str((time.time() - start_time))}\")"
   ]
  },
  {
   "cell_type": "code",
   "execution_count": 76,
   "metadata": {},
   "outputs": [
    {
     "name": "stdout",
     "output_type": "stream",
     "text": [
      "1\n"
     ]
    }
   ],
   "source": [
    "# Question 5\n",
    "\n",
    "# 2520 is the smallest number that can be divided by each of the numbers from 1 to 10 without any remainder.\n",
    "\n",
    "# What is the smallest positive number that is evenly divisible by all of the numbers from 1 to 20?\n",
    "\n",
    "start_time = time.time()\n",
    "\n",
    "i = 1\n",
    "x1 = 1\n",
    "\n",
    "while i in range (1,11):\n",
    "    if x1%(i in range(1,11)) == 0: #and x1%i == 0:\n",
    "        i = i+1\n",
    "    else: x1 = x1+1\n",
    "print(x1)"
   ]
  },
  {
   "cell_type": "code",
   "execution_count": 78,
   "metadata": {},
   "outputs": [
    {
     "name": "stdout",
     "output_type": "stream",
     "text": [
      "True\n"
     ]
    }
   ],
   "source": [
    "min_div = min([x%i == 0 for i in range(1,11)])\n",
    "print(min_div)"
   ]
  },
  {
   "cell_type": "code",
   "execution_count": 6,
   "metadata": {},
   "outputs": [
    {
     "name": "stdout",
     "output_type": "stream",
     "text": [
      "The difference between the sum of the squares of the first one hundred natural numbers and the square of the sum is 25,164,150\n"
     ]
    }
   ],
   "source": [
    "# Question 6\n",
    "    #The sum of the squares of the first ten natural numbers is,\n",
    "\n",
    "    #The square of the sum of the first ten natural numbers is, Hence the difference between \n",
    "    #the sum of the squares of the first ten natural numbers and the square of the sum is .\n",
    "\n",
    "#Find the difference between the sum of the squares of the first one hundred natural numbers and the square of the sum.\n",
    "\n",
    "sum_sq = sum([x*x for x in range(1,101)])\n",
    "\n",
    "sq_sum = sum([x for x in range(1,101)])**2\n",
    "\n",
    "sq_diff = sq_sum-sum_sq\n",
    "print(f\"The difference between the sum of the squares of the first one hundred natural numbers and the square of the sum is {sq_diff:,}\")"
   ]
  },
  {
   "cell_type": "code",
   "execution_count": null,
   "metadata": {},
   "outputs": [],
   "source": [
    "#Question 7\n",
    "#By listing the first six prime numbers: 2, 3, 5, 7, 11, and 13, we can see that the 6th prime is 13.\n",
    "\n",
    "#What is the 10 001st prime number?\n",
    "\n",
    "n = 2\n",
    "primes = [0]*10_002\n",
    "#call primes[10001]\n",
    "\n",
    "while primes < len(10_002):\n",
    "    while n%n == 0 and n%1 == 0:\n",
    "        primes[n] = n\n",
    "        n = n+1\n",
    "    \n",
    "\n",
    "\n",
    "not_prime_list = []\n",
    "prime_list = [0]*10_002\n",
    "n = 2\n",
    "while prime_list < len(10_002):\n",
    "    range_1  = [j for j in range(1,n) if j != 1 and j != n]\n",
    "    for j in range_1:\n",
    "        new_number = i/j\n",
    "        if n%n == 0 and n%1 == 0 and n%j != 0:\n",
    "            prime_list.append(i)\n",
    "        elif n%n == 0 and n%1 == 0 and n%j == 0:\n",
    "            not_prime_list.append(i)\n"
   ]
  },
  {
   "cell_type": "code",
   "execution_count": 27,
   "metadata": {},
   "outputs": [
    {
     "name": "stdout",
     "output_type": "stream",
     "text": [
      "[2]\n"
     ]
    }
   ],
   "source": [
    "n = 3\n",
    "my_list = [x for x in range(2,n)]\n",
    "print(my_list)"
   ]
  },
  {
   "cell_type": "code",
   "execution_count": 2,
   "metadata": {},
   "outputs": [
    {
     "name": "stdout",
     "output_type": "stream",
     "text": [
      "[]\n"
     ]
    }
   ],
   "source": [
    "not_prime_list = []\n",
    "prime_list = []\n",
    "n = 3\n",
    "while len(prime_list) == 6:\n",
    "    for j in range(2,n):\n",
    "        if n%n == 0 and n%1 == 0 and n%j != 0:\n",
    "            prime_list.append(n)\n",
    "            n = n+1\n",
    "        elif n%n == 0 and n%1 == 0 and n%j == 0:\n",
    "            not_prime_list.append(n)\n",
    "            n = n+1\n",
    "\n",
    "print(prime_list)"
   ]
  },
  {
   "cell_type": "code",
   "execution_count": 15,
   "metadata": {},
   "outputs": [
    {
     "name": "stdout",
     "output_type": "stream",
     "text": [
      "6\n"
     ]
    }
   ],
   "source": [
    "not_prime_list = []\n",
    "prime_list = [0]*6\n",
    "n = 2\n",
    "print(len(prime_list))"
   ]
  },
  {
   "cell_type": "code",
   "execution_count": 85,
   "metadata": {},
   "outputs": [
    {
     "ename": "KeyboardInterrupt",
     "evalue": "",
     "output_type": "error",
     "traceback": [
      "\u001b[0;31m---------------------------------------------------------------------------\u001b[0m",
      "\u001b[0;31mKeyboardInterrupt\u001b[0m                         Traceback (most recent call last)",
      "\u001b[0;32m/var/folders/gh/74s81nd57gv2fw_tjj238ly40000gn/T/ipykernel_1344/1850895128.py\u001b[0m in \u001b[0;36m<module>\u001b[0;34m\u001b[0m\n\u001b[1;32m      8\u001b[0m \u001b[0;32mwhile\u001b[0m \u001b[0mlen\u001b[0m\u001b[0;34m(\u001b[0m\u001b[0mprime_list\u001b[0m\u001b[0;34m)\u001b[0m \u001b[0;34m<\u001b[0m \u001b[0;36m10_001\u001b[0m\u001b[0;34m:\u001b[0m\u001b[0;34m\u001b[0m\u001b[0;34m\u001b[0m\u001b[0m\n\u001b[1;32m      9\u001b[0m     \u001b[0;32mfor\u001b[0m \u001b[0mi\u001b[0m \u001b[0;32min\u001b[0m \u001b[0mrange\u001b[0m\u001b[0;34m(\u001b[0m\u001b[0;36m2\u001b[0m\u001b[0;34m,\u001b[0m\u001b[0mn\u001b[0m\u001b[0;34m-\u001b[0m\u001b[0;36m1\u001b[0m\u001b[0;34m,\u001b[0m\u001b[0;36m1\u001b[0m\u001b[0;34m)\u001b[0m\u001b[0;34m:\u001b[0m\u001b[0;34m\u001b[0m\u001b[0;34m\u001b[0m\u001b[0m\n\u001b[0;32m---> 10\u001b[0;31m         \u001b[0mprime_num\u001b[0m\u001b[0;34m(\u001b[0m\u001b[0mn\u001b[0m\u001b[0;34m)\u001b[0m\u001b[0;34m\u001b[0m\u001b[0;34m\u001b[0m\u001b[0m\n\u001b[0m\u001b[1;32m     11\u001b[0m \u001b[0mprint\u001b[0m\u001b[0;34m(\u001b[0m\u001b[0mmax\u001b[0m\u001b[0;34m(\u001b[0m\u001b[0mprime_list\u001b[0m\u001b[0;34m)\u001b[0m\u001b[0;34m)\u001b[0m\u001b[0;34m\u001b[0m\u001b[0;34m\u001b[0m\u001b[0m\n",
      "\u001b[0;31mKeyboardInterrupt\u001b[0m: "
     ]
    }
   ],
   "source": [
    "def prime_num(n):\n",
    "    prime_list = [2,3]\n",
    "    if n%i == 0:\n",
    "        prime_list.append(n)\n",
    "    else: n+1\n",
    "\n",
    "n = 4\n",
    "while len(prime_list) < 10_001:\n",
    "    for i in range(2,n-1,1):\n",
    "        prime_num(n)\n",
    "print(max(prime_list))"
   ]
  },
  {
   "cell_type": "code",
   "execution_count": 83,
   "metadata": {},
   "outputs": [
    {
     "ename": "KeyboardInterrupt",
     "evalue": "",
     "output_type": "error",
     "traceback": [
      "\u001b[0;31m---------------------------------------------------------------------------\u001b[0m",
      "\u001b[0;31mKeyboardInterrupt\u001b[0m                         Traceback (most recent call last)",
      "\u001b[0;32m/var/folders/gh/74s81nd57gv2fw_tjj238ly40000gn/T/ipykernel_1344/1982826430.py\u001b[0m in \u001b[0;36m<module>\u001b[0;34m\u001b[0m\n\u001b[1;32m      2\u001b[0m \u001b[0mx\u001b[0m \u001b[0;34m=\u001b[0m \u001b[0;36m3\u001b[0m\u001b[0;34m\u001b[0m\u001b[0;34m\u001b[0m\u001b[0m\n\u001b[1;32m      3\u001b[0m \u001b[0;32mwhile\u001b[0m \u001b[0mn\u001b[0m \u001b[0;34m<\u001b[0m \u001b[0;36m6\u001b[0m\u001b[0;34m:\u001b[0m\u001b[0;34m\u001b[0m\u001b[0;34m\u001b[0m\u001b[0m\n\u001b[0;32m----> 4\u001b[0;31m     \u001b[0;32mif\u001b[0m \u001b[0mx\u001b[0m\u001b[0;34m%\u001b[0m\u001b[0mi\u001b[0m \u001b[0;34m==\u001b[0m \u001b[0;36m0\u001b[0m\u001b[0;34m:\u001b[0m\u001b[0;34m\u001b[0m\u001b[0;34m\u001b[0m\u001b[0m\n\u001b[0m\u001b[1;32m      5\u001b[0m         \u001b[0;32mfor\u001b[0m \u001b[0mi\u001b[0m \u001b[0;32min\u001b[0m \u001b[0mrange\u001b[0m\u001b[0;34m(\u001b[0m\u001b[0;36m2\u001b[0m\u001b[0;34m,\u001b[0m\u001b[0mx\u001b[0m\u001b[0;34m-\u001b[0m\u001b[0;36m1\u001b[0m\u001b[0;34m,\u001b[0m\u001b[0;36m1\u001b[0m\u001b[0;34m)\u001b[0m\u001b[0;34m:\u001b[0m\u001b[0;34m\u001b[0m\u001b[0;34m\u001b[0m\u001b[0m\n\u001b[1;32m      6\u001b[0m             \u001b[0mx\u001b[0m \u001b[0;34m=\u001b[0m \u001b[0mx\u001b[0m\u001b[0;34m+\u001b[0m\u001b[0;36m1\u001b[0m\u001b[0;34m\u001b[0m\u001b[0;34m\u001b[0m\u001b[0m\n",
      "\u001b[0;31mKeyboardInterrupt\u001b[0m: "
     ]
    }
   ],
   "source": [
    "\n",
    "\n",
    "\n",
    "n = 0\n",
    "x = 3\n",
    "while n < 6:\n",
    "    if x%i == 0: \n",
    "        for i in range(2,x-1,1):\n",
    "            x = x+1\n",
    "            n = n+1\n",
    "print(n)\n"
   ]
  },
  {
   "cell_type": "code",
   "execution_count": 68,
   "metadata": {},
   "outputs": [
    {
     "name": "stdout",
     "output_type": "stream",
     "text": [
      "Confirming the number has 1000 digits\n",
      "The value of the largest product of thirteen adjacent digits in the 1000-digit number is 23,514,624,000\n",
      "Run time = 0.018691062927246094\n"
     ]
    }
   ],
   "source": [
    "# Question 8\n",
    "\n",
    "# The four adjacent digits in the 1000-digit number that have the greatest product are 9 × 9 × 8 × 9 = 5832.\n",
    "\n",
    "# Find the thirteen adjacent digits in the 1000-digit number that have the greatest product. \n",
    "# What is the value of this product?\n",
    "\n",
    "start_time = time.time()\n",
    "\n",
    "num_1000 = 73167176531330624919225119674426574742355349194934_96983520312774506326239578318016984801869478851843_85861560789112949495459501737958331952853208805511_12540698747158523863050715693290963295227443043557_66896648950445244523161731856403098711121722383113_62229893423380308135336276614282806444486645238749_30358907296290491560440772390713810515859307960866_70172427121883998797908792274921901699720888093776_65727333001053367881220235421809751254540594752243_52584907711670556013604839586446706324415722155397_53697817977846174064955149290862569321978468622482_83972241375657056057490261407972968652414535100474_82166370484403199890008895243450658541227588666881_16427171479924442928230863465674813919123162824586_17866458359124566529476545682848912883142607690042_24219022671055626321111109370544217506941658960408_07198403850962455444362981230987879927244284909188_84580156166097919133875499200524063689912560717606_05886116467109405077541002256983155200055935729725_71636269561882670428252483600823257530420752963450\n",
    "str_1000 = str(num_1000)\n",
    "print(f\"Confirming the number has {len(str(num_1000))} digits\")\n",
    "\n",
    "\n",
    "def greatest_product(n):\n",
    "    str_1000 = str(n)\n",
    "    x = (int(str_1000[i])) * (int(str_1000[i+1])) * (int(str_1000[i+2]))  * (int(str_1000[i+3])) * (int(str_1000[i+4])) * (int(str_1000[i+5])) * (int(str_1000[i+6])) * (int(str_1000[i+7]))* (int(str_1000[i+8]))* (int(str_1000[i+9]))* (int(str_1000[i+10]))* (int(str_1000[i+11]))* (int(str_1000[i+12]))\n",
    "    return(x)\n",
    "\n",
    "i = 0\n",
    "x1 = 0\n",
    "while i < (len(str_1000)-12):\n",
    "    x = greatest_product(num_1000)\n",
    "    if x > x1:\n",
    "            x1 = x\n",
    "    else:\n",
    "            i = i+1\n",
    "print(f\"The value of the largest product of thirteen adjacent digits in the 1000-digit number is {x1:,}\") \n",
    "\n",
    "print(f\"Run time = {str((time.time() - start_time))}\")\n",
    "\n",
    "# ----------Tried to use --------------------\n",
    "# from operator import mul\n",
    "# import functools\n",
    "# x = functools.reduce(mul,str_1000[i:i+12])"
   ]
  },
  {
   "cell_type": "code",
   "execution_count": 10,
   "metadata": {},
   "outputs": [
    {
     "data": {
      "text/plain": [
       "8709120"
      ]
     },
     "execution_count": 10,
     "metadata": {},
     "output_type": "execute_result"
    }
   ],
   "source": [
    "def greatest_product(n):\n",
    "    str_1000 = str(n)\n",
    "    greatest_product = 0\n",
    "    for i in range(len(str_1000) - 13):\n",
    "        digits = [int(ch) for ch in str_1000[i:i+13]]\n",
    "        product = 1\n",
    "        for d in digits:\n",
    "            product *= d\n",
    "        if product > greatest_product:\n",
    "            greatest_product = product\n",
    "    return greatest_product\n",
    "\n",
    "greatest_product(12345678912345)"
   ]
  },
  {
   "cell_type": "code",
   "execution_count": 9,
   "metadata": {},
   "outputs": [
    {
     "data": {
      "text/plain": [
       "8709120"
      ]
     },
     "execution_count": 9,
     "metadata": {},
     "output_type": "execute_result"
    }
   ],
   "source": [
    "def greatest_product_2(n):\n",
    "    str_1000 = str(n)\n",
    "    x = (int(str_1000[i])) * (int(str_1000[i+1])) * (int(str_1000[i+2]))  * (int(str_1000[i+3])) * (int(str_1000[i+4])) * (int(str_1000[i+5])) * (int(str_1000[i+6])) * (int(str_1000[i+7]))* (int(str_1000[i+8]))* (int(str_1000[i+9]))* (int(str_1000[i+10]))* (int(str_1000[i+11]))* (int(str_1000[i+12]))\n",
    "    return(x)\n",
    "i=0\n",
    "greatest_product_2(12345678912345)"
   ]
  },
  {
   "cell_type": "code",
   "execution_count": 69,
   "metadata": {},
   "outputs": [
    {
     "name": "stdout",
     "output_type": "stream",
     "text": [
      "The product abc = 31,875,000\n",
      "Run time = 13.25531005859375\n"
     ]
    }
   ],
   "source": [
    "# Question 9\n",
    "\n",
    "#A Pythagorean triplet is a set of three natural numbers, a < b < c, for which, a^2 + b^2 = c^2\n",
    "# For example, 32 + 42 = 9 + 16 = 25 = 52.\n",
    "\n",
    "# There exists exactly one Pythagorean triplet for which a + b + c = 1000.\n",
    "# Find the product abc.\n",
    "\n",
    "start_time = time.time()\n",
    "\n",
    "for a in range(1,500):\n",
    "    for b in range(a,500):\n",
    "        for c in range(b,500):\n",
    "            if a < b < c:\n",
    "                if (a**2)+ (b**2) == (c**2):\n",
    "                    if (a + b + c) == 1000:\n",
    "                        Pythagorean_1= a\n",
    "                        Pythagorean_2= b\n",
    "                        Pythagorean_3= c\n",
    "\n",
    "\n",
    "Pythagorean_product = Pythagorean_1*Pythagorean_2*Pythagorean_3\n",
    "print(f\"The product abc = {Pythagorean_product:,}\")\n",
    "print(f\"Run time = {str((time.time() - start_time))}\")"
   ]
  },
  {
   "cell_type": "code",
   "execution_count": null,
   "metadata": {},
   "outputs": [],
   "source": []
  }
 ],
 "metadata": {
  "kernelspec": {
   "display_name": "base",
   "language": "python",
   "name": "python3"
  },
  "language_info": {
   "codemirror_mode": {
    "name": "ipython",
    "version": 3
   },
   "file_extension": ".py",
   "mimetype": "text/x-python",
   "name": "python",
   "nbconvert_exporter": "python",
   "pygments_lexer": "ipython3",
   "version": "3.9.19"
  },
  "orig_nbformat": 4,
  "vscode": {
   "interpreter": {
    "hash": "9435897ee24bc4f1c232c9e5d8fe40c8aa7868678aa6c9b0966ba727e5018b64"
   }
  }
 },
 "nbformat": 4,
 "nbformat_minor": 2
}
